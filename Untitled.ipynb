{
 "cells": [
  {
   "cell_type": "code",
   "execution_count": null,
   "metadata": {},
   "outputs": [
    {
     "name": "stdout",
     "output_type": "stream",
     "text": [
      "Defaulting to user installation because normal site-packages is not writeable\n",
      "Requirement already satisfied: jupytext in /private/var/mobile/Containers/Data/Application/13C0FA24-01E3-4AA7-BD1F-9FB41DE223D5/Library/lib/python3.9/site-packages (1.14.1)\n",
      "Requirement already satisfied: nbformat in /private/var/containers/Bundle/Application/24FD143F-BEFF-4969-A84E-197A61FE0899/Carnets.app/Library/lib/python3.9/site-packages (from jupytext) (5.4.0)\n",
      "Requirement already satisfied: toml in /private/var/mobile/Containers/Data/Application/13C0FA24-01E3-4AA7-BD1F-9FB41DE223D5/Library/lib/python3.9/site-packages (from jupytext) (0.10.2)\n",
      "Requirement already satisfied: pyyaml in /private/var/containers/Bundle/Application/24FD143F-BEFF-4969-A84E-197A61FE0899/Carnets.app/Library/lib/python3.9/site-packages (from jupytext) (6.0)\n",
      "Requirement already satisfied: markdown-it-py<3.0.0,>=1.0.0 in /private/var/mobile/Containers/Data/Application/13C0FA24-01E3-4AA7-BD1F-9FB41DE223D5/Library/lib/python3.9/site-packages (from jupytext) (2.1.0)\n",
      "Requirement already satisfied: mdit-py-plugins in /private/var/mobile/Containers/Data/Application/13C0FA24-01E3-4AA7-BD1F-9FB41DE223D5/Library/lib/python3.9/site-packages (from jupytext) (0.3.1)\n",
      "Requirement already satisfied: mdurl~=0.1 in /private/var/mobile/Containers/Data/Application/13C0FA24-01E3-4AA7-BD1F-9FB41DE223D5/Library/lib/python3.9/site-packages (from markdown-it-py<3.0.0,>=1.0.0->jupytext) (0.1.2)\n",
      "Requirement already satisfied: jsonschema>=2.6 in /private/var/containers/Bundle/Application/24FD143F-BEFF-4969-A84E-197A61FE0899/Carnets.app/Library/lib/python3.9/site-packages (from nbformat->jupytext) (4.6.0)\n",
      "Requirement already satisfied: jupyter-core in /private/var/containers/Bundle/Application/24FD143F-BEFF-4969-A84E-197A61FE0899/Carnets.app/Library/lib/python3.9/site-packages (from nbformat->jupytext) (4.10.0)\n",
      "Requirement already satisfied: fastjsonschema in /private/var/containers/Bundle/Application/24FD143F-BEFF-4969-A84E-197A61FE0899/Carnets.app/Library/lib/python3.9/site-packages (from nbformat->jupytext) (2.15.3)\n",
      "Requirement already satisfied: traitlets>=5.1 in /private/var/containers/Bundle/Application/24FD143F-BEFF-4969-A84E-197A61FE0899/Carnets.app/Library/lib/python3.9/site-packages (from nbformat->jupytext) (5.3.0)\n",
      "Requirement already satisfied: pyrsistent!=0.17.0,!=0.17.1,!=0.17.2,>=0.14.0 in /private/var/containers/Bundle/Application/24FD143F-BEFF-4969-A84E-197A61FE0899/Carnets.app/Library/lib/python3.9/site-packages (from jsonschema>=2.6->nbformat->jupytext) (0.18.1)\n",
      "Requirement already satisfied: attrs>=17.4.0 in /private/var/containers/Bundle/Application/24FD143F-BEFF-4969-A84E-197A61FE0899/Carnets.app/Library/lib/python3.9/site-packages (from jsonschema>=2.6->nbformat->jupytext) (21.4.0)\n",
      "\r"
     ]
    }
   ],
   "source": [
    "%pip install jupytext"
   ]
  },
  {
   "cell_type": "code",
   "execution_count": null,
   "metadata": {},
   "outputs": [],
   "source": []
  }
 ],
 "metadata": {
  "kernelspec": {
   "display_name": "Python 3 (ipykernel)",
   "language": "python",
   "name": "python3"
  },
  "language_info": {
   "codemirror_mode": {
    "name": "ipython",
    "version": 3
   },
   "file_extension": ".py",
   "mimetype": "text/x-python",
   "name": "python",
   "nbconvert_exporter": "python",
   "pygments_lexer": "ipython3",
   "version": "3.9.10+"
  }
 },
 "nbformat": 4,
 "nbformat_minor": 2
}
